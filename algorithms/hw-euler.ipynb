{
 "cells": [
  {
   "cell_type": "code",
   "execution_count": 19,
   "metadata": {},
   "outputs": [
    {
     "name": "stdout",
     "output_type": "stream",
     "text": [
      "<generator object foo at 0x000002B81A1E8310>\n"
     ]
    }
   ],
   "source": [
    "# 1:done\n",
    "def multiples_of_3_or_5(d:int)->int:\n",
    "    # https://projecteuler.net/problem=1\n",
    "    # If we list all the natural numbers below 10 that are multiples of 3 or 5, we get 3, 5, 6 and 9. \n",
    "    # The sum of these multiples is 23.\n",
    "    # Find the sum of all the multiples of 3 or 5 below 1000.\n",
    "    sum = 0\n",
    "    for i in range(d):\n",
    "        if i % 3 ==0  or i % 5 == 0:\n",
    "            sum += i\n",
    "    return sum\n",
    "# multiples_of_3_or_5(1000)\n"
   ]
  },
  {
   "cell_type": "code",
   "execution_count": null,
   "metadata": {},
   "outputs": [],
   "source": [
    "# 2:done\n",
    "def even_fibonacci_numbers(qty:int)->None:\n",
    "# By considering the terms in the Fibonacci sequence whose values do not exceed four million, \n",
    "# find the sum of the even-valued terms.\n",
    "    f1=f2=1\n",
    "    i = 2\n",
    "    print(f1,f2,end=' ')\n",
    "    while i<qty:\n",
    "        f1,f2=f2,f1+f2\n",
    "        print(f2,end=' ')\n",
    "        i+=1\n",
    "# even_fibonacci_numbers(100)\n"
   ]
  },
  {
   "cell_type": "code",
   "execution_count": null,
   "metadata": {},
   "outputs": [],
   "source": [
    "# 3:continue \n",
    "def largest_prime_factor(num:int)->int:\n",
    "\n",
    "    # def simle_list(n:int)->list:\n",
    "    #     \"\"\"returns list of simple number from 2 to num\"\"\"\n",
    "    #     lst=[]\n",
    "    #     for i in range(2,n+1 ):\n",
    "    #         for j in range(2,i):\n",
    "    #             if i % j == 0:\n",
    "    #                 break\n",
    "    #         else:\n",
    "    #             lst.append(i)\n",
    "    #     return lst\n",
    "\n",
    "    # for i in simle_list(num)[::-1]:\n",
    "    #     if num%i==0:\n",
    "    #         return i\n",
    "\n",
    "    def is_prime(a:int)->bool:\n",
    "        if a % 2 == 0:\n",
    "            return a == 2\n",
    "        d = 3\n",
    "        while d * d <= a and a % d != 0:\n",
    "            d += 2\n",
    "        return d * d > a\n",
    "\n",
    "    for i in range(int(num/2),2,-1):\n",
    "        print(i,':',is_prime(i),num % i == 0)\n",
    "        \n",
    "        if is_prime(i) is True and num % i == 0:\n",
    "            return i\n",
    "            break\n",
    "    \n",
    "def foo(n):\n",
    "    for i in range(1, int(n/2)+1):\n",
    "        if 100 % i == 0:\n",
    "            yield i\n",
    "    yield n\n",
    "\n",
    "print(foo(100))\n",
    "\n",
    "\n",
    "# largest_prime_factor(600851475143)"
   ]
  }
 ],
 "metadata": {
  "kernelspec": {
   "display_name": "venv",
   "language": "python",
   "name": "python3"
  },
  "language_info": {
   "codemirror_mode": {
    "name": "ipython",
    "version": 3
   },
   "file_extension": ".py",
   "mimetype": "text/x-python",
   "name": "python",
   "nbconvert_exporter": "python",
   "pygments_lexer": "ipython3",
   "version": "3.11.3"
  },
  "orig_nbformat": 4
 },
 "nbformat": 4,
 "nbformat_minor": 2
}
