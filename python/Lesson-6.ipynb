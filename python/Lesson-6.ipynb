{
 "cells": [
  {
   "cell_type": "code",
   "execution_count": 1,
   "metadata": {},
   "outputs": [
    {
     "name": "stdout",
     "output_type": "stream",
     "text": [
      "25\n",
      "25\n"
     ]
    }
   ],
   "source": [
    "lst = []\n",
    "# проблема late building\n",
    "for i in (1,2):\n",
    "    def inner(x):\n",
    "        return x ** i\n",
    "    lst.append(inner)\n",
    "# хотим получить список степени 5\n",
    "\n",
    "for p in lst:\n",
    "    print(p(5))\n",
    "    "
   ]
  },
  {
   "cell_type": "code",
   "execution_count": 2,
   "metadata": {},
   "outputs": [
    {
     "name": "stdout",
     "output_type": "stream",
     "text": [
      "5\n",
      "25\n"
     ]
    }
   ],
   "source": [
    "lst = []\n",
    "# проблема late building\n",
    "for i in (1,2):\n",
    "    def inner(x,i=i):\n",
    "        return x ** i\n",
    "    lst.append(inner)\n",
    "# хотим получить список степени 5\n",
    " \n",
    "\n",
    "for p in lst:\n",
    "    print(p(5))\n",
    "\n"
   ]
  },
  {
   "cell_type": "code",
   "execution_count": 6,
   "metadata": {},
   "outputs": [
    {
     "name": "stdout",
     "output_type": "stream",
     "text": [
      "5\n",
      "25\n"
     ]
    }
   ],
   "source": [
    "lst = []\n",
    "# проблема late building\n",
    "for i in (1,2):\n",
    "    def outer(j):\n",
    "        def inner(x):\n",
    "            return x ** j\n",
    "        return inner\n",
    "    lst.append(outer(i))\n",
    "# хотим получить список степени 5\n",
    "\n",
    "for p in lst:\n",
    "    print(p(5))\n",
    "    \n",
    "\n"
   ]
  },
  {
   "cell_type": "code",
   "execution_count": 11,
   "metadata": {},
   "outputs": [
    {
     "name": "stdout",
     "output_type": "stream",
     "text": [
      "5\n"
     ]
    }
   ],
   "source": [
    "def sum(x:int, y:int)-> int: #x,y параметры\n",
    "    return x + y\n",
    "\n",
    "# n = sum(2,3) #2,3 - агрументы \n",
    "# print(n)\n",
    "\n",
    "# лейт билдинг значение типы аргументов инницилизируются только во время вызова\n",
    "\n",
    "def foo(x,y,operation):\n",
    "    return operation(x,y)\n",
    "print(foo(2,3,sum))\n",
    "# Функция высшего порядка - ф-я которая в качестве параметра принимает другую фукуию\n",
    "\n",
    "\n",
    "\n"
   ]
  },
  {
   "attachments": {},
   "cell_type": "markdown",
   "metadata": {},
   "source": [
    "### Высшая функция\n",
    "Высшая функция - функция в которую передается другая функция"
   ]
  },
  {
   "cell_type": "code",
   "execution_count": null,
   "metadata": {},
   "outputs": [],
   "source": [
    "def sum(x:int, y:int)-> int: #x,y параметры\n",
    "    return x + y\n",
    "\n",
    "def foo(x,y,operation):\n",
    "    return operation\n",
    "\n",
    "print(foo(2,3,sum(5,3)))"
   ]
  }
 ],
 "metadata": {
  "kernelspec": {
   "display_name": "env",
   "language": "python",
   "name": "python3"
  },
  "language_info": {
   "codemirror_mode": {
    "name": "ipython",
    "version": 3
   },
   "file_extension": ".py",
   "mimetype": "text/x-python",
   "name": "python",
   "nbconvert_exporter": "python",
   "pygments_lexer": "ipython3",
   "version": "3.11.4"
  },
  "orig_nbformat": 4
 },
 "nbformat": 4,
 "nbformat_minor": 2
}
